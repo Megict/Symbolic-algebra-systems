{
 "cells": [
  {
   "cell_type": "markdown",
   "metadata": {},
   "source": [
    "# <hl>Задание 1 часть 1 – Квадратик</hl>"
   ]
  },
  {
   "cell_type": "code",
   "execution_count": 8,
   "metadata": {},
   "outputs": [
    {
     "data": {
      "image/png": "[encoded data removed]",
      "text/plain": [
       "Graphics object consisting of 2 graphics primitives"
      ]
     },
     "metadata": {},
     "output_type": "display_data"
    }
   ],
   "source": [
    "a = 10\n",
    "v = matrix([[0,0],\n",
    "            [0,a],\n",
    "            [a,a],\n",
    "            [a,0],\n",
    "            [0,0]])\n",
    "alpha = math.radians(30)\n",
    "mat_rot = matrix([\n",
    "    [cos(alpha), -sin(alpha)],\n",
    "    [sin(alpha), cos(alpha)]\n",
    "])\n",
    "mov_x = 8\n",
    "mov_y = 14\n",
    "mat_mov = matrix([\n",
    "    [mov_x, mov_y],\n",
    "    [mov_x, mov_y],\n",
    "    [mov_x, mov_y],\n",
    "    [mov_x, mov_y],\n",
    "    [mov_x, mov_y]\n",
    "])\n",
    "rectangle_rotated = v * mat_rot\n",
    "rectangle_moved = rectangle_rotated + mat_mov\n",
    "show(line(v) + line(rectangle_moved),xmin = -5, xmax = 25, ymin = -5, ymax = 25, aspect_ratio = 1)"
   ]
  },
  {
   "cell_type": "markdown",
   "metadata": {},
   "source": [
    "# <hl>Задание 1 часть 2 – исследование функции</hl>\n",
    "Вариант 6 (номер 7)<br>"
   ]
  },
  {
   "cell_type": "code",
   "execution_count": 1,
   "metadata": {},
   "outputs": [
    {
     "data": {
      "text/html": [
       "<html><script type=\"math/tex; mode=display\">\\newcommand{\\Bold}[1]{\\mathbf{#1}}x \\ {\\mapsto}\\ \\frac{\\log\\left(x - 1\\right)}{{\\left(x - 1\\right)}^{2}}</script></html>"
      ],
      "text/latex": [
       "\\begin{math}\n",
       "\\newcommand{\\Bold}[1]{\\mathbf{#1}}x \\ {\\mapsto}\\ \\frac{\\log\\left(x - 1\\right)}{{\\left(x - 1\\right)}^{2}}\n",
       "\\end{math}"
      ],
      "text/plain": [
       "x |--> log(x - 1)/(x - 1)^2"
      ]
     },
     "metadata": {},
     "output_type": "display_data"
    }
   ],
   "source": [
    "y(x)=(log(x-1))/((x-1)**2)\n",
    "show(y)"
   ]
  },
  {
   "cell_type": "markdown",
   "metadata": {},
   "source": [
    "<oi>\n",
    "1. По структуре функции можно найти ее область опредделения.<br>\n",
    "D(x) = (1,+∞)<br>\n",
    "</oi>"
   ]
  },
  {
   "cell_type": "code",
   "execution_count": 9,
   "metadata": {
    "scrolled": false
   },
   "outputs": [
    {
     "data": {
      "image/png": "[encoded data removed]",
      "text/plain": [
       "Graphics object consisting of 1 graphics primitive"
      ]
     },
     "execution_count": 9,
     "metadata": {},
     "output_type": "execute_result"
    }
   ],
   "source": [
    "eps = 1e-6\n",
    "plot(y, (x,1+eps,10), ymin = -1,ymax = .5)"
   ]
  },
  {
   "cell_type": "markdown",
   "metadata": {},
   "source": [
    "2. Область (-∞, 0] не входит в область определения, так что проверять четность/нечетность функции нет необходимости"
   ]
  },
  {
   "cell_type": "markdown",
   "metadata": {},
   "source": [
    "       Но в принципе не проблема и проверить:"
   ]
  },
  {
   "cell_type": "code",
   "execution_count": 82,
   "metadata": {},
   "outputs": [
    {
     "name": "stdout",
     "output_type": "stream",
     "text": [
      "chek result:\n",
      "symmetry:\n",
      "False\n",
      "asymmetry:\n",
      "False\n"
     ]
    }
   ],
   "source": [
    "sym = bool(true)\n",
    "asm = bool(true)\n",
    "for a in range(2,10):\n",
    "    if y(a) != y(-a):\n",
    "        sym = false\n",
    "    if y(a) != -y(-a):\n",
    "        asm = false\n",
    "        \n",
    "print(\"chek result:\\nsymmetry:\")\n",
    "print(sym)\n",
    "print(\"asymmetry:\")\n",
    "print(asm)"
   ]
  },
  {
   "cell_type": "markdown",
   "metadata": {},
   "source": [
    "Проверим периодичность"
   ]
  },
  {
   "cell_type": "code",
   "execution_count": 6,
   "metadata": {
    "scrolled": true
   },
   "outputs": [
    {
     "data": {
      "text/plain": [
       "[T == -(x*log(x - 1) + sqrt(log(T + x - 1)*log(x - 1))*(x - 1) - log(x - 1))/log(x - 1), T == -(x*log(x - 1) - sqrt(log(T + x - 1)*log(x - 1))*(x - 1) - log(x - 1))/log(x - 1)]"
      ]
     },
     "execution_count": 6,
     "metadata": {},
     "output_type": "execute_result"
    }
   ],
   "source": [
    "var(\"x, T\")\n",
    "\n",
    "solve([y(x) == y(x + T) == y(x + 2*T)],T)"
   ]
  },
  {
   "cell_type": "markdown",
   "metadata": {},
   "source": [
    "Решения трансцендентные. Явного ответа не получено. Функция не переодична."
   ]
  },
  {
   "cell_type": "code",
   "execution_count": 21,
   "metadata": {},
   "outputs": [
    {
     "data": {
      "text/plain": [
       "[x == 2]"
      ]
     },
     "execution_count": 21,
     "metadata": {},
     "output_type": "execute_result"
    }
   ],
   "source": [
    "solve(y,x)"
   ]
  },
  {
   "cell_type": "markdown",
   "metadata": {},
   "source": [
    "3. Решив уравнение в ячейке выше находим точки пересечения с осью Ox. Из области определения следует, что точек пересечения с Oy нет. <br>\n",
    "4. Зная единственный корень и область определения найдем по графику промежутки знакопостоянства:<br>\n",
    "    (1,2),(2,+inf)"
   ]
  },
  {
   "cell_type": "markdown",
   "metadata": {},
   "source": [
    "Чтобы ответить на вопросы 5 и 6 вычислим производную функции и построим ее график. Затем найдем точки ее пересечения с Ox <br>"
   ]
  },
  {
   "cell_type": "code",
   "execution_count": 38,
   "metadata": {},
   "outputs": [
    {
     "data": {
      "image/png": "[encoded data removed]",
      "text/plain": [
       "Graphics object consisting of 1 graphics primitive"
      ]
     },
     "execution_count": 38,
     "metadata": {},
     "output_type": "execute_result"
    }
   ],
   "source": [
    "y(x) = ((x-1-2*(x-1)*(log(x-1)))/((x-1)**4))\n",
    "eps = 1e-6\n",
    "plot(y, (x,1+eps,10), ymin = -.2,ymax = 1)"
   ]
  },
  {
   "cell_type": "code",
   "execution_count": 31,
   "metadata": {},
   "outputs": [
    {
     "data": {
      "text/plain": [
       "[x == e^(1/2) + 1]"
      ]
     },
     "execution_count": 31,
     "metadata": {},
     "output_type": "execute_result"
    }
   ],
   "source": [
    "solve(y,x)"
   ]
  },
  {
   "cell_type": "code",
   "execution_count": 39,
   "metadata": {},
   "outputs": [
    {
     "data": {
      "text/plain": [
       "1/2*e^(-1)"
      ]
     },
     "execution_count": 39,
     "metadata": {},
     "output_type": "execute_result"
    }
   ],
   "source": [
    "y(x)=(log(x-1))/((x-1)**2)\n",
    "y(e^(1/2) + 1)"
   ]
  },
  {
   "cell_type": "markdown",
   "metadata": {},
   "source": [
    "5. На промежутке (1,e^(1/2) + 1) функция возрастает, на (e^(1/2) + 1, +inf) – убывает. <br>\n",
    "6. Точка [x == e^(1/2) + 1] представляет собой точку экстремума, значение функции в ней = 1/2*e^(-1)<br>\n",
    "7. Функция непрерывна"
   ]
  },
  {
   "cell_type": "code",
   "execution_count": 27,
   "metadata": {},
   "outputs": [
    {
     "data": {
      "text/plain": [
       "0"
      ]
     },
     "execution_count": 27,
     "metadata": {},
     "output_type": "execute_result"
    }
   ],
   "source": [
    "limit(y(x), x=infinity)"
   ]
  },
  {
   "cell_type": "code",
   "execution_count": 28,
   "metadata": {},
   "outputs": [
    {
     "data": {
      "text/plain": [
       "Infinity"
      ]
     },
     "execution_count": 28,
     "metadata": {},
     "output_type": "execute_result"
    }
   ],
   "source": [
    "limit(y(x), x=1)"
   ]
  },
  {
   "cell_type": "markdown",
   "metadata": {},
   "source": [
    "8. Асимптоты: в якейках выше мы вычислили, что при x стремящемся к +inf y стремится к 0. Это горизонтальная асимтота y=0<br>              при x стремящемся к 1 y стремится к -inf. Это вертикальная асимптота x=1<br>\n",
    "\n",
    "Построим график функции и отметим на нем асимптоты:"
   ]
  },
  {
   "cell_type": "code",
   "execution_count": 72,
   "metadata": {},
   "outputs": [
    {
     "data": {
      "image/png": "[encoded data removed]",
      "text/plain": [
       "Graphics object consisting of 3 graphics primitives"
      ]
     },
     "metadata": {},
     "output_type": "display_data"
    }
   ],
   "source": [
    "p1 = plot((log(x-1))/((x-1)**2),(x,1,10),rgbcolor=hue(0.6))\n",
    "p2 = plot(0,(x,-10,10),rgbcolor=hue(1), linestyle=\"--\")\n",
    "p3 = [(1,y) for y in srange(-500,10,0.01)]\n",
    "\n",
    "show(p1 + p2 + line(p3,rgbcolor=hue(1), linestyle=\"--\"), xmin = 0.7, xmax = 5, ymin = -5, ymax = .5)"
   ]
  },
  {
   "cell_type": "markdown",
   "metadata": {},
   "source": [
    "Может показаться, что вертикальная асимптота (при x = 1) построена неверно, однако, уменьшив масштаб,<br> мы видим, что f(x) действительно стремится к ней:<br>"
   ]
  },
  {
   "cell_type": "code",
   "execution_count": 74,
   "metadata": {
    "scrolled": false
   },
   "outputs": [
    {
     "data": {
      "image/png": "[encoded data removed]",
      "text/plain": [
       "Graphics object consisting of 3 graphics primitives"
      ]
     },
     "metadata": {},
     "output_type": "display_data"
    }
   ],
   "source": [
    "p1 = plot((log(x-1))/((x-1)**2),(x,1,10),rgbcolor=hue(0.6))\n",
    "p2 = plot(0,(x,-10,10),rgbcolor=hue(1), linestyle=\"--\")\n",
    "p3 = [(1,y) for y in srange(-500,10,0.01)]\n",
    "\n",
    "show(p1 + p2 + line(p3,rgbcolor=hue(1), linestyle=\"--\"), xmin = 0.7, xmax = 10, ymin = -200, ymax = 1)"
   ]
  },
  {
   "cell_type": "code",
   "execution_count": 1,
   "metadata": {},
   "outputs": [],
   "source": [
    "VC.<x,y,z> = PolynomialRing(RR)"
   ]
  },
  {
   "cell_type": "code",
   "execution_count": null,
   "metadata": {},
   "outputs": [],
   "source": []
  }
 ],
 "metadata": {
  "kernelspec": {
   "display_name": "SageMath 9.2",
   "language": "sage",
   "name": "sagemath"
  },
  "language_info": {
   "codemirror_mode": {
    "name": "ipython",
    "version": 3
   },
   "file_extension": ".py",
   "mimetype": "text/x-python",
   "name": "python",
   "nbconvert_exporter": "python",
   "pygments_lexer": "ipython3",
   "version": "3.7.7"
  }
 },
 "nbformat": 4,
 "nbformat_minor": 4
}
